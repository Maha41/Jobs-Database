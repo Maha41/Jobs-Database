{
 "cells": [
  {
   "cell_type": "code",
   "execution_count": 1,
   "metadata": {},
   "outputs": [],
   "source": [
    "import pyodbc\n",
    "import pandas as pd"
   ]
  },
  {
   "cell_type": "code",
   "execution_count": 17,
   "metadata": {},
   "outputs": [
    {
     "name": "stdout",
     "output_type": "stream",
     "text": [
      "Job Application - Views\n",
      "MENU\n",
      "Below is the list of Functions\n",
      "Press 1 to execute : vw_GetJobPosition\n",
      "Press 2 to execute : vw_GetTwitterData\n",
      "Press 3 to execute : VW_GetTweetdatawithUser\n",
      "Press 4 to execute : VW_GetInstaPostData\n",
      "Press 5 to execute : VW_GetUserwiseTweetCount\n",
      "Press 6 to execute : VW_GetCollegewiseTweetCount\n"
     ]
    }
   ],
   "source": [
    "conn = pyodbc.connect('Driver={SQL Server Native Client 11.0};'\n",
    "                     'Server=DESKTOP-4TA4DJ5;'\n",
    "                     'Database=Project;'\n",
    "                     'Trusted_Connection=yes;')\n",
    "cursor=conn.cursor()\n",
    "\n",
    "#Run Instructions\n",
    "#select_method[6]()\n",
    "\n",
    "print(\"Job Application - Views\")\n",
    "print(\"MENU\")\n",
    "print(\"Below is the list of Functions\")\n",
    "print(\"Press 1 to execute : vw_GetJobPosition\")\n",
    "print(\"Press 2 to execute : vw_GetTwitterData\")\n",
    "print(\"Press 3 to execute : VW_GetTweetdatawithUser\")\n",
    "print(\"Press 4 to execute : VW_GetInstaPostData\")\n",
    "print(\"Press 5 to execute : VW_GetUserwiseTweetCount\")\n",
    "print(\"Press 6 to execute : VW_GetCollegewiseTweetCount\")\n",
    "\n",
    "def vw_GetJobPosition():\n",
    "    cursor.execute('select * from vw_GetJobPosition')\n",
    "    for row in cursor:\n",
    "        print(row)\n",
    "        \n",
    "def vw_GetTwitterData():\n",
    "    cursor.execute('select * from vw_GetTwitterData')\n",
    "    for row in cursor:\n",
    "        print(row)\n",
    "        \n",
    "\n",
    "def VW_GetTweetdatawithUser():\n",
    "    cursor.execute('SELECT * from VW_GetTweetdatawithUser')\n",
    "    for row in cursor:\n",
    "        print(row)\n",
    "        \n",
    "def VW_GetInstaPostData():\n",
    "    cursor.execute('select * from VW_GetInstaPostData')\n",
    "    for row in cursor:\n",
    "        print(row)\n",
    "        \n",
    "def VW_GetUserwiseTweetCount():\n",
    "    cursor.execute('select * from VW_GetUserwiseTweetCount')\n",
    "    for row in cursor:\n",
    "        print(row)\n",
    "\n",
    "def VW_GetCollegewiseTweetCount():\n",
    "    cursor.execute('select * from VW_GetCollegewiseTweetCount')\n",
    "    for row in cursor:\n",
    "        print(row)"
   ]
  },
  {
   "cell_type": "code",
   "execution_count": 18,
   "metadata": {},
   "outputs": [],
   "source": [
    "select_method = {1 : vw_GetJobPosition,\n",
    "                 2 : vw_GetTwitterData,\n",
    "                 3 : VW_GetTweetdatawithUser,\n",
    "                 4 : VW_GetInstaPostData,\n",
    "                 5 : VW_GetUserwiseTweetCount,\n",
    "                 6 : VW_GetCollegewiseTweetCount\n",
    "}"
   ]
  },
  {
   "cell_type": "code",
   "execution_count": null,
   "metadata": {},
   "outputs": [],
   "source": []
  }
 ],
 "metadata": {
  "kernelspec": {
   "display_name": "Python 3",
   "language": "python",
   "name": "python3"
  },
  "language_info": {
   "codemirror_mode": {
    "name": "ipython",
    "version": 3
   },
   "file_extension": ".py",
   "mimetype": "text/x-python",
   "name": "python",
   "nbconvert_exporter": "python",
   "pygments_lexer": "ipython3",
   "version": "3.7.1"
  }
 },
 "nbformat": 4,
 "nbformat_minor": 2
}
