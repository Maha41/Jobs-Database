{
 "cells": [
  {
   "cell_type": "code",
   "execution_count": 3,
   "metadata": {},
   "outputs": [],
   "source": [
    "import pyodbc\n",
    "import pandas as pd"
   ]
  },
  {
   "cell_type": "code",
   "execution_count": 20,
   "metadata": {},
   "outputs": [
    {
     "name": "stdout",
     "output_type": "stream",
     "text": [
      "Job Application - Functions\n",
      "MENU\n",
      "Below is the list of Functions\n",
      "Press 1 to execute : MostActiveVerifiedTwitterUserByName\n",
      "Press 2 to execute : MaxretweetcountByName\n",
      "Press 3 to execute : GetFollowerCoundByName\n",
      "Press 4 to execute : GetFulltimeJobCountByPosition\n",
      "Press 5 to execute : GetParttimeJobCountByPosition\n",
      "Press 6 to execute : GetParttimeJobCountByCollegeName\n"
     ]
    }
   ],
   "source": [
    "#establishing microsoft server sql database connection with python using pyodbc\n",
    "\n",
    "conn = pyodbc.connect('Driver={SQL Server Native Client 11.0};'\n",
    "                     'Server=DESKTOP-4TA4DJ5;'\n",
    "                     'Database=Project;'\n",
    "                     'Trusted_Connection=yes;')\n",
    "cursor=conn.cursor()\n",
    "\n",
    "\n",
    "print(\"Job Application - Functions\")\n",
    "print(\"MENU\")\n",
    "print(\"Below is the list of Functions\")\n",
    "print(\"Press 1 to execute : MostActiveVerifiedTwitterUserByName\")\n",
    "print(\"Press 2 to execute : MaxretweetcountByName\")\n",
    "print(\"Press 3 to execute : GetFollowerCoundByName\")\n",
    "print(\"Press 4 to execute : GetFulltimeJobCountByPosition\")\n",
    "print(\"Press 5 to execute : GetParttimeJobCountByPosition\")\n",
    "print(\"Press 6 to execute : GetParttimeJobCountByCollegeName\")\n",
    "\n",
    "def MostActiveVerifiedTwitterUserByName():\n",
    "    List = [\"Northeastern\"]\n",
    "    print(\"Examples of name:\" +str(List))\n",
    "    text = input(\"Enter the name :\")\n",
    "    cursor.execute('select  distinct Name,dbo.MostActiveVerifiedTwitterUserByName(name) from vw_GetTwitterData')\n",
    "    for row in cursor:\n",
    "        print(row)\n",
    "        \n",
    "def MaxretweetcountByName():\n",
    "    List = [\"Northeastern\"]\n",
    "    print(\"Examples of name:\" +str(List))\n",
    "    text = input(\"Enter the name :\")\n",
    "    cursor.execute('select  distinct Name,dbo.MostActiveVerifiedTwitterUserByName(name) from vw_GetTwitterData')\n",
    "    for row in cursor:\n",
    "        print(row)\n",
    "        \n",
    "def GetFollowerCoundByName():\n",
    "    List = [\"Northeastern\"]\n",
    "    print(\"Examples of name:\" +str(List))\n",
    "    text = input(\"Enter the name :\")\n",
    "    cursor.execute('select  distinct Name,dbo.GetFollowerCoundByName(name) from vw_GetTwitterData')\n",
    "    for row in cursor:\n",
    "        print(row)\n",
    "        \n",
    "def GetFulltimeJobCountByPosition():\n",
    "    List = [\"Full_Time\"]\n",
    "    print(\"Examples of position:\" +str(List))\n",
    "    text = input(\"Enter the position :\")\n",
    "    cursor.execute('select  distinct Name,dbo.GetFulltimeJobCountByPosition(name) from vw_GetTwitterData')\n",
    "    for row in cursor:\n",
    "        print(row)\n",
    "        \n",
    "def GetParttimeJobCountByPosition():\n",
    "    List = [\"Part_Time\"]\n",
    "    print(\"Examples of position:\" +str(List))\n",
    "    text = input(\"Enter the position :\")\n",
    "    cursor.execute('select  distinct Name,dbo.GetParttimeJobCountByPosition(name) from vw_GetTwitterData')\n",
    "    for row in cursor:\n",
    "        print(row)\n",
    "        \n",
    "def GetParttimeJobCountByCollegeName():\n",
    "    List = [\"Northeastern\"]\n",
    "    print(\"Examples of position:\" +str(List))\n",
    "    text = input(\"Enter the position :\")\n",
    "    cursor.execute('select  distinct Name,dbo.GetParttimeJobCountByCollegeName(name) from vw_GetTwitterData')\n",
    "    for row in cursor:\n",
    "        print(row)"
   ]
  },
  {
   "cell_type": "code",
   "execution_count": 21,
   "metadata": {},
   "outputs": [],
   "source": [
    "select_method = {1 : MostActiveVerifiedTwitterUserByName,\n",
    "                 2 : MaxretweetcountByName,\n",
    "                 3 : GetFollowerCoundByName,\n",
    "                 4 : GetFulltimeJobCountByPosition,\n",
    "                 5 : GetParttimeJobCountByPosition,\n",
    "                 6 : GetParttimeJobCountByCollegeName\n",
    "}"
   ]
  },
  {
   "cell_type": "code",
   "execution_count": 22,
   "metadata": {},
   "outputs": [
    {
     "name": "stdout",
     "output_type": "stream",
     "text": [
      "Examples of position:['Northeastern']\n",
      "Enter the position :Northeastern\n",
      "('BouvÃ© College of Health Sciences at Northeastern', None)\n",
      "('Dâ€™AmoreMcKim BSchool', None)\n",
      "('Northeastern ADVANCE', None)\n",
      "('Northeastern COE', None)\n",
      "('Northeastern COS', None)\n",
      "('Northeastern CPS', None)\n",
      "('Northeastern CSSH', None)\n",
      "('Northeastern GEO', None)\n",
      "('Northeastern Huskies', None)\n",
      "('Northeastern ITS', None)\n",
      "('Northeastern U.', None)\n",
      "('Northeastern UHCS', None)\n",
      "('Northeastern University Khoury College', None)\n",
      "('NortheasternCAMD', None)\n",
      "('NortheasternLaw', None)\n",
      "('NU Housing & ResLife', None)\n",
      "('NU Police Department', None)\n",
      "('NU Student Life', None)\n",
      "('NUCityAffairs', None)\n",
      "('Research at NU', None)\n",
      "('Snell Library', None)\n"
     ]
    }
   ],
   "source": [
    "select_method[6]()"
   ]
  },
  {
   "cell_type": "code",
   "execution_count": null,
   "metadata": {},
   "outputs": [],
   "source": []
  }
 ],
 "metadata": {
  "kernelspec": {
   "display_name": "Python 3",
   "language": "python",
   "name": "python3"
  },
  "language_info": {
   "codemirror_mode": {
    "name": "ipython",
    "version": 3
   },
   "file_extension": ".py",
   "mimetype": "text/x-python",
   "name": "python",
   "nbconvert_exporter": "python",
   "pygments_lexer": "ipython3",
   "version": "3.7.1"
  }
 },
 "nbformat": 4,
 "nbformat_minor": 2
}
